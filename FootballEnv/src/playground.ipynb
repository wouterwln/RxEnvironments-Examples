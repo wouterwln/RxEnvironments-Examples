{
 "cells": [
  {
   "cell_type": "code",
   "execution_count": 8,
   "metadata": {},
   "outputs": [
    {
     "name": "stderr",
     "output_type": "stream",
     "text": [
      "┌ Info: Animating state of Continuous RxEntity{FootballSimulation.World}\n",
      "└ @ RxEnvironmentsPlottingExt /Users/wnuijten/.julia/dev/RxEnvironments/ext/RxEnvironmentsPlottingExt.jl:6\n"
     ]
    }
   ],
   "source": [
    "using FootballSimulation\n",
    "using RxEnvironments\n",
    "using StaticArrays\n",
    "using Quaternions\n",
    "\n",
    "env = FootballSimulation.create_world(80, 4)\n",
    "positions = [[-50.0, 0.0, 0.0], [-40.0, 10.0, 0.0], [-40.0, -10.0, 0.0], [-35.0, 30.0, 0.0], [-35.0, -30.0, 0.0], [-30.0, 0.0, 0.0], [-12.0, 30.0, 0.0], [-20.0, 10.0, 0.0], [-20.0, -10.0, 0.0], [-12.0, -30.0, 0.0], [-10.0, 0, 0.0]]\n",
    "agents = []\n",
    "for i in 1:11\n",
    "    player = FootballSimulation.player(\"Virgil van Dijk\", team = :home, position = positions[i])\n",
    "    agent = FootballSimulation.EmptyAgent()\n",
    "    push!(agents, FootballSimulation.add_player!(env, player, agent))\n",
    "end\n",
    "for i in 1:11\n",
    "    player = FootballSimulation.player(\"Lionel Messi\", team = :away, position = [0.0, 0.0, 0.0] .- positions[i], orientation = π)\n",
    "    agent = FootballSimulation.EmptyAgent()\n",
    "    push!(agents, FootballSimulation.add_player!(env, player, agent))\n",
    "end\n",
    "\n",
    "\n",
    "ball = FootballSimulation.Ball(SA[0.0, 0.0, 0.11])\n",
    "FootballSimulation.add_ball!(env, ball)\n",
    "\n",
    "RxEnvironments.animate_state(env)"
   ]
  },
  {
   "cell_type": "code",
   "execution_count": 9,
   "metadata": {},
   "outputs": [],
   "source": [
    "for i in 1:100\n",
    "    action = rand() * 2π\n",
    "    send!(env, rand(agents), FootballSimulation.PlayerMovementAction(FootballSimulation.PlayerRunAction(1, action), FootballSimulation. PlayerTurnAction(action)))\n",
    "    sleep(0.4)\n",
    "end\n",
    "\n"
   ]
  },
  {
   "cell_type": "code",
   "execution_count": 7,
   "metadata": {},
   "outputs": [],
   "source": [
    "RxEnvironments.send!(env, agents[end], FootballSimulation.PlayerMovementAction(FootballSimulation.PlayerRunAction(0, 0), FootballSimulation.PlayerTurnAction(pi/5)))"
   ]
  },
  {
   "cell_type": "code",
   "execution_count": 22,
   "metadata": {},
   "outputs": [],
   "source": [
    "RxEnvironments.send!(env, ryan, FootballSimulation.PlayerMovementAction(FootballSimulation.PlayerRunAction(0, 0), FootballSimulation.PlayerTurnAction(π)))"
   ]
  },
  {
   "cell_type": "code",
   "execution_count": 13,
   "metadata": {},
   "outputs": [
    {
     "data": {
      "text/plain": [
       "true"
      ]
     },
     "metadata": {},
     "output_type": "display_data"
    }
   ],
   "source": [
    "FootballSimulation.kick!(ball, [-20.0,2.0,3.0], Quaternion(1,0,0.2,0))"
   ]
  },
  {
   "cell_type": "code",
   "execution_count": 20,
   "metadata": {},
   "outputs": [],
   "source": [
    "RxEnvironments.send!(env, kevin, FootballSimulation.PlayerMovementAction(FootballSimulation.PlayerRunAction(0,0), FootballSimulation.PlayerTurnAction(-2*pi/3)))"
   ]
  },
  {
   "cell_type": "code",
   "execution_count": 15,
   "metadata": {},
   "outputs": [],
   "source": [
    "RxEnvironments.send!(env, kevin, FootballSimulation.PlayerMovementAction(FootballSimulation.PlayerRunAction(1, 0), FootballSimulation.PlayerTurnAction(0)))"
   ]
  },
  {
   "cell_type": "code",
   "execution_count": 15,
   "metadata": {},
   "outputs": [
    {
     "data": {
      "text/plain": [
       "FootballSimulation.Ball(FootballSimulation.BallProperties{Float64}(0.11, 0.43, 0.9, 0.47, 1.0), FootballSimulation.BallState{Float64}([-9.0, 0.0, 0.11], [0.0, 0.0, 0.0], QuaternionF64(1.0, 0.0, 0.0, 0.0), false, FootballSimulation.RollingTrajectory(SciMLBase.ODESolution{Float64, 2, Vector{SVector{6, Float64}}, Nothing, Nothing, Vector{Float64}, Vector{Vector{SVector{6, Float64}}}, SciMLBase.ODEProblem{SVector{6, Float64}, Tuple{Float64, Float64}, false, FootballSimulation.Ball, SciMLBase.ODEFunction{false, SciMLBase.AutoSpecialize, typeof(FootballSimulation.rolling_dynamics), LinearAlgebra.UniformScaling{Bool}, Nothing, Nothing, Nothing, Nothing, Nothing, Nothing, Nothing, Nothing, Nothing, Nothing, Nothing, Nothing, Nothing, Nothing, typeof(SciMLBase.DEFAULT_OBSERVED), Nothing, Nothing}, Base.Pairs{Symbol, Union{}, Tuple{}, @NamedTuple{}}, SciMLBase.StandardODEProblem}, OrdinaryDiffEq.Tsit5{typeof(OrdinaryDiffEq.trivial_limiter!), typeof(OrdinaryDiffEq.trivial_limiter!), Static.False}, OrdinaryDiffEq.InterpolationData{SciMLBase.ODEFunction{false, SciMLBase.AutoSpecialize, typeof(FootballSimulation.rolling_dynamics), LinearAlgebra.UniformScaling{Bool}, Nothing, Nothing, Nothing, Nothing, Nothing, Nothing, Nothing, Nothing, Nothing, Nothing, Nothing, Nothing, Nothing, Nothing, typeof(SciMLBase.DEFAULT_OBSERVED), Nothing, Nothing}, Vector{SVector{6, Float64}}, Vector{Float64}, Vector{Vector{SVector{6, Float64}}}, OrdinaryDiffEq.Tsit5ConstantCache}, SciMLBase.DEStats, Nothing}(SVector{6, Float64}[[-9.0, 0.0, 0.11, 0.0, 0.0, 0.0], [-9.0, 0.0, 0.11, 0.0, 0.0, 0.0], [-9.0, 0.0, 0.11, 0.0, 0.0, 0.0], [-9.0, 0.0, 0.11, 0.0, 0.0, 0.0], [-9.0, 0.0, 0.11, 0.0, 0.0, 0.0], [-9.0, 0.0, 0.11, 0.0, 0.0, 0.0], [-9.0, 0.0, 0.11, 0.0, 0.0, 0.0]], nothing, nothing, [0.0, 9.999999999999999e-5, 0.0010999999999999998, 0.011099999999999997, 0.11109999999999996, 1.1110999999999995, 7.0], Vector{SVector{6, Float64}}[[[-9.0, 0.0, 0.11, 0.0, 0.0, 0.0]], [[0.0, 0.0, 0.0, 0.0, 0.0, 0.0], [0.0, 0.0, 0.0, 0.0, 0.0, 0.0], [0.0, 0.0, 0.0, 0.0, 0.0, 0.0], [0.0, 0.0, 0.0, 0.0, 0.0, 0.0], [0.0, 0.0, 0.0, 0.0, 0.0, 0.0], [0.0, 0.0, 0.0, 0.0, 0.0, 0.0], [0.0, 0.0, 0.0, 0.0, 0.0, 0.0]], [[0.0, 0.0, 0.0, 0.0, 0.0, 0.0], [0.0, 0.0, 0.0, 0.0, 0.0, 0.0], [0.0, 0.0, 0.0, 0.0, 0.0, 0.0], [0.0, 0.0, 0.0, 0.0, 0.0, 0.0], [0.0, 0.0, 0.0, 0.0, 0.0, 0.0], [0.0, 0.0, 0.0, 0.0, 0.0, 0.0], [0.0, 0.0, 0.0, 0.0, 0.0, 0.0]], [[0.0, 0.0, 0.0, 0.0, 0.0, 0.0], [0.0, 0.0, 0.0, 0.0, 0.0, 0.0], [0.0, 0.0, 0.0, 0.0, 0.0, 0.0], [0.0, 0.0, 0.0, 0.0, 0.0, 0.0], [0.0, 0.0, 0.0, 0.0, 0.0, 0.0], [0.0, 0.0, 0.0, 0.0, 0.0, 0.0], [0.0, 0.0, 0.0, 0.0, 0.0, 0.0]], [[0.0, 0.0, 0.0, 0.0, 0.0, 0.0], [0.0, 0.0, 0.0, 0.0, 0.0, 0.0], [0.0, 0.0, 0.0, 0.0, 0.0, 0.0], [0.0, 0.0, 0.0, 0.0, 0.0, 0.0], [0.0, 0.0, 0.0, 0.0, 0.0, 0.0], [0.0, 0.0, 0.0, 0.0, 0.0, 0.0], [0.0, 0.0, 0.0, 0.0, 0.0, 0.0]], [[0.0, 0.0, 0.0, 0.0, 0.0, 0.0], [0.0, 0.0, 0.0, 0.0, 0.0, 0.0], [0.0, 0.0, 0.0, 0.0, 0.0, 0.0], [0.0, 0.0, 0.0, 0.0, 0.0, 0.0], [0.0, 0.0, 0.0, 0.0, 0.0, 0.0], [0.0, 0.0, 0.0, 0.0, 0.0, 0.0], [0.0, 0.0, 0.0, 0.0, 0.0, 0.0]], [[0.0, 0.0, 0.0, 0.0, 0.0, 0.0], [0.0, 0.0, 0.0, 0.0, 0.0, 0.0], [0.0, 0.0, 0.0, 0.0, 0.0, 0.0], [0.0, 0.0, 0.0, 0.0, 0.0, 0.0], [0.0, 0.0, 0.0, 0.0, 0.0, 0.0], [0.0, 0.0, 0.0, 0.0, 0.0, 0.0], [0.0, 0.0, 0.0, 0.0, 0.0, 0.0]]], SciMLBase.ODEProblem{SVector{6, Float64}, Tuple{Float64, Float64}, false, FootballSimulation.Ball, SciMLBase.ODEFunction{false, SciMLBase.AutoSpecialize, typeof(FootballSimulation.rolling_dynamics), LinearAlgebra.UniformScaling{Bool}, Nothing, Nothing, Nothing, Nothing, Nothing, Nothing, Nothing, Nothing, Nothing, Nothing, Nothing, Nothing, Nothing, Nothing, typeof(SciMLBase.DEFAULT_OBSERVED), Nothing, Nothing}, Base.Pairs{Symbol, Union{}, Tuple{}, @NamedTuple{}}, SciMLBase.StandardODEProblem}(SciMLBase.ODEFunction{false, SciMLBase.AutoSpecialize, typeof(FootballSimulation.rolling_dynamics), LinearAlgebra.UniformScaling{Bool}, Nothing, Nothing, Nothing, Nothing, Nothing, Nothing, Nothing, Nothing, Nothing, Nothing, Nothing, Nothing, Nothing, Nothing, typeof(SciMLBase.DEFAULT_OBSERVED), Nothing, Nothing}(FootballSimulation.rolling_dynamics, LinearAlgebra.UniformScaling{Bool}(true), nothing, nothing, nothing, nothing, nothing, nothing, nothing, nothing, nothing, nothing, nothing, nothing, nothing, nothing, SciMLBase.DEFAULT_OBSERVED, nothing, nothing), [-9.0, 0.0, 0.11, 0.0, 0.0, 0.0], (0.0, 7.0), FootballSimulation.Ball(#= circular reference @-5 =#), Base.Pairs{Symbol, Union{}, Tuple{}, @NamedTuple{}}(), SciMLBase.StandardODEProblem()), Tsit5(; stage_limiter! = trivial_limiter!, step_limiter! = trivial_limiter!, thread = static(false),), OrdinaryDiffEq.InterpolationData{SciMLBase.ODEFunction{false, SciMLBase.AutoSpecialize, typeof(FootballSimulation.rolling_dynamics), LinearAlgebra.UniformScaling{Bool}, Nothing, Nothing, Nothing, Nothing, Nothing, Nothing, Nothing, Nothing, Nothing, Nothing, Nothing, Nothing, Nothing, Nothing, typeof(SciMLBase.DEFAULT_OBSERVED), Nothing, Nothing}, Vector{SVector{6, Float64}}, Vector{Float64}, Vector{Vector{SVector{6, Float64}}}, OrdinaryDiffEq.Tsit5ConstantCache}(SciMLBase.ODEFunction{false, SciMLBase.AutoSpecialize, typeof(FootballSimulation.rolling_dynamics), LinearAlgebra.UniformScaling{Bool}, Nothing, Nothing, Nothing, Nothing, Nothing, Nothing, Nothing, Nothing, Nothing, Nothing, Nothing, Nothing, Nothing, Nothing, typeof(SciMLBase.DEFAULT_OBSERVED), Nothing, Nothing}(FootballSimulation.rolling_dynamics, LinearAlgebra.UniformScaling{Bool}(true), nothing, nothing, nothing, nothing, nothing, nothing, nothing, nothing, nothing, nothing, nothing, nothing, nothing, nothing, SciMLBase.DEFAULT_OBSERVED, nothing, nothing), SVector{6, Float64}[[-9.0, 0.0, 0.11, 0.0, 0.0, 0.0], [-9.0, 0.0, 0.11, 0.0, 0.0, 0.0], [-9.0, 0.0, 0.11, 0.0, 0.0, 0.0], [-9.0, 0.0, 0.11, 0.0, 0.0, 0.0], [-9.0, 0.0, 0.11, 0.0, 0.0, 0.0], [-9.0, 0.0, 0.11, 0.0, 0.0, 0.0], [-9.0, 0.0, 0.11, 0.0, 0.0, 0.0]], [0.0, 9.999999999999999e-5, 0.0010999999999999998, 0.011099999999999997, 0.11109999999999996, 1.1110999999999995, 7.0], Vector{SVector{6, Float64}}[[[-9.0, 0.0, 0.11, 0.0, 0.0, 0.0]], [[0.0, 0.0, 0.0, 0.0, 0.0, 0.0], [0.0, 0.0, 0.0, 0.0, 0.0, 0.0], [0.0, 0.0, 0.0, 0.0, 0.0, 0.0], [0.0, 0.0, 0.0, 0.0, 0.0, 0.0], [0.0, 0.0, 0.0, 0.0, 0.0, 0.0], [0.0, 0.0, 0.0, 0.0, 0.0, 0.0], [0.0, 0.0, 0.0, 0.0, 0.0, 0.0]], [[0.0, 0.0, 0.0, 0.0, 0.0, 0.0], [0.0, 0.0, 0.0, 0.0, 0.0, 0.0], [0.0, 0.0, 0.0, 0.0, 0.0, 0.0], [0.0, 0.0, 0.0, 0.0, 0.0, 0.0], [0.0, 0.0, 0.0, 0.0, 0.0, 0.0], [0.0, 0.0, 0.0, 0.0, 0.0, 0.0], [0.0, 0.0, 0.0, 0.0, 0.0, 0.0]], [[0.0, 0.0, 0.0, 0.0, 0.0, 0.0], [0.0, 0.0, 0.0, 0.0, 0.0, 0.0], [0.0, 0.0, 0.0, 0.0, 0.0, 0.0], [0.0, 0.0, 0.0, 0.0, 0.0, 0.0], [0.0, 0.0, 0.0, 0.0, 0.0, 0.0], [0.0, 0.0, 0.0, 0.0, 0.0, 0.0], [0.0, 0.0, 0.0, 0.0, 0.0, 0.0]], [[0.0, 0.0, 0.0, 0.0, 0.0, 0.0], [0.0, 0.0, 0.0, 0.0, 0.0, 0.0], [0.0, 0.0, 0.0, 0.0, 0.0, 0.0], [0.0, 0.0, 0.0, 0.0, 0.0, 0.0], [0.0, 0.0, 0.0, 0.0, 0.0, 0.0], [0.0, 0.0, 0.0, 0.0, 0.0, 0.0], [0.0, 0.0, 0.0, 0.0, 0.0, 0.0]], [[0.0, 0.0, 0.0, 0.0, 0.0, 0.0], [0.0, 0.0, 0.0, 0.0, 0.0, 0.0], [0.0, 0.0, 0.0, 0.0, 0.0, 0.0], [0.0, 0.0, 0.0, 0.0, 0.0, 0.0], [0.0, 0.0, 0.0, 0.0, 0.0, 0.0], [0.0, 0.0, 0.0, 0.0, 0.0, 0.0], [0.0, 0.0, 0.0, 0.0, 0.0, 0.0]], [[0.0, 0.0, 0.0, 0.0, 0.0, 0.0], [0.0, 0.0, 0.0, 0.0, 0.0, 0.0], [0.0, 0.0, 0.0, 0.0, 0.0, 0.0], [0.0, 0.0, 0.0, 0.0, 0.0, 0.0], [0.0, 0.0, 0.0, 0.0, 0.0, 0.0], [0.0, 0.0, 0.0, 0.0, 0.0, 0.0], [0.0, 0.0, 0.0, 0.0, 0.0, 0.0]]], true, OrdinaryDiffEq.Tsit5ConstantCache()), true, 0, SciMLBase.DEStats(39, 0, 0, 0, 0, 0, 0, 0, 6, 0, 0.0), nothing, SciMLBase.ReturnCode.Success), FootballSimulation.BallTrajectoryEnd(7.0, static(false), [0, 0, 0], 0.0), 0.18155598640441895)))"
      ]
     },
     "metadata": {},
     "output_type": "display_data"
    }
   ],
   "source": [
    "ball = FootballSimulation.Ball(SA[-9.0, 0.0, 0.11])\n",
    "FootballSimulation.add_ball!(env, ball)"
   ]
  },
  {
   "cell_type": "code",
   "execution_count": 26,
   "metadata": {},
   "outputs": [
    {
     "data": {
      "text/plain": [
       "TimerSubscription()"
      ]
     },
     "metadata": {},
     "output_type": "display_data"
    }
   ],
   "source": [
    "resume!(env)"
   ]
  },
  {
   "cell_type": "code",
   "execution_count": 13,
   "metadata": {},
   "outputs": [],
   "source": []
  },
  {
   "cell_type": "code",
   "execution_count": 10,
   "metadata": {},
   "outputs": [
    {
     "data": {
      "text/plain": [
       "1.5707963267948966"
      ]
     },
     "metadata": {},
     "output_type": "display_data"
    }
   ],
   "source": []
  },
  {
   "cell_type": "code",
   "execution_count": 11,
   "metadata": {},
   "outputs": [
    {
     "data": {
      "text/plain": [
       "133"
      ]
     },
     "metadata": {},
     "output_type": "display_data"
    }
   ],
   "source": [
    "argmin(f.(r))"
   ]
  },
  {
   "cell_type": "code",
   "execution_count": 12,
   "metadata": {},
   "outputs": [
    {
     "data": {
      "text/plain": [
       "-1.821592653589793"
      ]
     },
     "metadata": {},
     "output_type": "display_data"
    }
   ],
   "source": [
    "r[133]"
   ]
  },
  {
   "cell_type": "code",
   "execution_count": null,
   "metadata": {},
   "outputs": [],
   "source": []
  }
 ],
 "metadata": {
  "kernelspec": {
   "display_name": "Julia 1.10.3",
   "language": "julia",
   "name": "julia-1.10"
  },
  "language_info": {
   "file_extension": ".jl",
   "mimetype": "application/julia",
   "name": "julia",
   "version": "1.10.3"
  },
  "orig_nbformat": 4
 },
 "nbformat": 4,
 "nbformat_minor": 2
}
